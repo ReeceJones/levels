{
 "cells": [
  {
   "cell_type": "code",
   "execution_count": 1,
   "id": "826b75bb-66ed-4c74-9017-44b2ac0193c1",
   "metadata": {},
   "outputs": [],
   "source": [
    "import matplotlib.pyplot as plt\n",
    "import seaborn as sns\n",
    "import pandas as pd\n",
    "\n",
    "from sklearn import linear_model\n",
    "\n",
    "COMPANY = 'Cisco'\n",
    "POSITION = 'Software Engineer'\n",
    "\n",
    "salary_data = pd.read_csv('salaryData.csv')\n",
    "company_data = salary_data[salary_data.company == COMPANY]\n",
    "company_data = company_data[(company_data.title == POSITION) & (company_data.yearsofexperience <= 5)]"
   ]
  },
  {
   "cell_type": "code",
   "execution_count": 2,
   "id": "e3e9a1cf-a90f-403b-96ee-656051010993",
   "metadata": {},
   "outputs": [
    {
     "data": {
      "text/html": [
       "<div>\n",
       "<style scoped>\n",
       "    .dataframe tbody tr th:only-of-type {\n",
       "        vertical-align: middle;\n",
       "    }\n",
       "\n",
       "    .dataframe tbody tr th {\n",
       "        vertical-align: top;\n",
       "    }\n",
       "\n",
       "    .dataframe thead th {\n",
       "        text-align: right;\n",
       "    }\n",
       "</style>\n",
       "<table border=\"1\" class=\"dataframe\">\n",
       "  <thead>\n",
       "    <tr style=\"text-align: right;\">\n",
       "      <th></th>\n",
       "      <th>timestamp</th>\n",
       "      <th>company</th>\n",
       "      <th>level</th>\n",
       "      <th>title</th>\n",
       "      <th>totalyearlycompensation</th>\n",
       "      <th>location</th>\n",
       "      <th>yearsofexperience</th>\n",
       "      <th>yearsatcompany</th>\n",
       "      <th>tag</th>\n",
       "      <th>basesalary</th>\n",
       "      <th>stockgrantvalue</th>\n",
       "      <th>bonus</th>\n",
       "      <th>gender</th>\n",
       "      <th>otherdetails</th>\n",
       "      <th>cityid</th>\n",
       "      <th>dmaid</th>\n",
       "      <th>rowNumber</th>\n",
       "    </tr>\n",
       "  </thead>\n",
       "  <tbody>\n",
       "    <tr>\n",
       "      <th>56441</th>\n",
       "      <td>6/28/2021 16:04:28</td>\n",
       "      <td>Cisco</td>\n",
       "      <td>Grade 6</td>\n",
       "      <td>Software Engineer</td>\n",
       "      <td>97.0</td>\n",
       "      <td>Durham, NC</td>\n",
       "      <td>3.0</td>\n",
       "      <td>2.0</td>\n",
       "      <td>Security</td>\n",
       "      <td>90.0</td>\n",
       "      <td>0.0</td>\n",
       "      <td>7.0</td>\n",
       "      <td>NaN</td>\n",
       "      <td>Title: Software Engineer</td>\n",
       "      <td>9606</td>\n",
       "      <td>560.0</td>\n",
       "      <td>75766</td>\n",
       "    </tr>\n",
       "    <tr>\n",
       "      <th>56597</th>\n",
       "      <td>6/29/2021 19:37:22</td>\n",
       "      <td>Cisco</td>\n",
       "      <td>Grade 4</td>\n",
       "      <td>Software Engineer</td>\n",
       "      <td>87.0</td>\n",
       "      <td>Seattle, WA</td>\n",
       "      <td>0.0</td>\n",
       "      <td>0.0</td>\n",
       "      <td>Web Development (Front-End)</td>\n",
       "      <td>80.0</td>\n",
       "      <td>0.0</td>\n",
       "      <td>7.0</td>\n",
       "      <td>NaN</td>\n",
       "      <td>Remote, Title: Software Engineer 1</td>\n",
       "      <td>11527</td>\n",
       "      <td>819.0</td>\n",
       "      <td>75969</td>\n",
       "    </tr>\n",
       "    <tr>\n",
       "      <th>57000</th>\n",
       "      <td>7/2/2021 10:22:52</td>\n",
       "      <td>Cisco</td>\n",
       "      <td>Grade 10</td>\n",
       "      <td>Software Engineer</td>\n",
       "      <td>200.0</td>\n",
       "      <td>Durham, NC</td>\n",
       "      <td>4.0</td>\n",
       "      <td>1.0</td>\n",
       "      <td>Networking</td>\n",
       "      <td>145.0</td>\n",
       "      <td>30.0</td>\n",
       "      <td>20.0</td>\n",
       "      <td>NaN</td>\n",
       "      <td>Title: Software Engineer</td>\n",
       "      <td>9606</td>\n",
       "      <td>560.0</td>\n",
       "      <td>76543</td>\n",
       "    </tr>\n",
       "    <tr>\n",
       "      <th>57281</th>\n",
       "      <td>7/6/2021 6:39:55</td>\n",
       "      <td>Cisco</td>\n",
       "      <td>Grade 8</td>\n",
       "      <td>Software Engineer</td>\n",
       "      <td>30.0</td>\n",
       "      <td>Bengaluru, KA, India</td>\n",
       "      <td>5.0</td>\n",
       "      <td>4.0</td>\n",
       "      <td>API Development (Back-End)</td>\n",
       "      <td>22.0</td>\n",
       "      <td>4.0</td>\n",
       "      <td>3.0</td>\n",
       "      <td>Female</td>\n",
       "      <td>Title: Software Engineer, Race: Asian, Academi...</td>\n",
       "      <td>42498</td>\n",
       "      <td>0.0</td>\n",
       "      <td>76927</td>\n",
       "    </tr>\n",
       "    <tr>\n",
       "      <th>57769</th>\n",
       "      <td>7/10/2021 17:43:25</td>\n",
       "      <td>Cisco</td>\n",
       "      <td>Grade 8</td>\n",
       "      <td>Software Engineer</td>\n",
       "      <td>189.0</td>\n",
       "      <td>San Jose, CA</td>\n",
       "      <td>4.0</td>\n",
       "      <td>2.0</td>\n",
       "      <td>Networking</td>\n",
       "      <td>152.0</td>\n",
       "      <td>19.0</td>\n",
       "      <td>18.0</td>\n",
       "      <td>Male</td>\n",
       "      <td>Title: Software Engineer 3, Race: Asian, Acade...</td>\n",
       "      <td>7422</td>\n",
       "      <td>807.0</td>\n",
       "      <td>77580</td>\n",
       "    </tr>\n",
       "  </tbody>\n",
       "</table>\n",
       "</div>"
      ],
      "text/plain": [
       "                timestamp company     level              title  \\\n",
       "56441  6/28/2021 16:04:28   Cisco   Grade 6  Software Engineer   \n",
       "56597  6/29/2021 19:37:22   Cisco   Grade 4  Software Engineer   \n",
       "57000   7/2/2021 10:22:52   Cisco  Grade 10  Software Engineer   \n",
       "57281    7/6/2021 6:39:55   Cisco   Grade 8  Software Engineer   \n",
       "57769  7/10/2021 17:43:25   Cisco   Grade 8  Software Engineer   \n",
       "\n",
       "       totalyearlycompensation              location  yearsofexperience  \\\n",
       "56441                     97.0            Durham, NC                3.0   \n",
       "56597                     87.0           Seattle, WA                0.0   \n",
       "57000                    200.0            Durham, NC                4.0   \n",
       "57281                     30.0  Bengaluru, KA, India                5.0   \n",
       "57769                    189.0          San Jose, CA                4.0   \n",
       "\n",
       "       yearsatcompany                          tag  basesalary  \\\n",
       "56441             2.0                     Security        90.0   \n",
       "56597             0.0  Web Development (Front-End)        80.0   \n",
       "57000             1.0                   Networking       145.0   \n",
       "57281             4.0   API Development (Back-End)        22.0   \n",
       "57769             2.0                   Networking       152.0   \n",
       "\n",
       "       stockgrantvalue  bonus  gender  \\\n",
       "56441              0.0    7.0     NaN   \n",
       "56597              0.0    7.0     NaN   \n",
       "57000             30.0   20.0     NaN   \n",
       "57281              4.0    3.0  Female   \n",
       "57769             19.0   18.0    Male   \n",
       "\n",
       "                                            otherdetails  cityid  dmaid  \\\n",
       "56441                           Title: Software Engineer    9606  560.0   \n",
       "56597                 Remote, Title: Software Engineer 1   11527  819.0   \n",
       "57000                           Title: Software Engineer    9606  560.0   \n",
       "57281  Title: Software Engineer, Race: Asian, Academi...   42498    0.0   \n",
       "57769  Title: Software Engineer 3, Race: Asian, Acade...    7422  807.0   \n",
       "\n",
       "       rowNumber  \n",
       "56441      75766  \n",
       "56597      75969  \n",
       "57000      76543  \n",
       "57281      76927  \n",
       "57769      77580  "
      ]
     },
     "execution_count": 2,
     "metadata": {},
     "output_type": "execute_result"
    }
   ],
   "source": [
    "company_data.tail()"
   ]
  },
  {
   "cell_type": "markdown",
   "id": "a5ec421f-66fb-4dc6-805d-dd400749fda7",
   "metadata": {},
   "source": [
    "# Basic Least Squares Regression\n",
    "Features:\n",
    "- Years of experience\n",
    "- Years at company"
   ]
  },
  {
   "cell_type": "code",
   "execution_count": 3,
   "id": "15dc6f14-a35e-40a9-a80d-8e41124ad4cf",
   "metadata": {},
   "outputs": [],
   "source": [
    "company_features = company_data[['yearsofexperience', 'yearsatcompany']]\n",
    "company_values = company_data['totalyearlycompensation']"
   ]
  },
  {
   "cell_type": "code",
   "execution_count": 4,
   "id": "5e01d607-f872-4da7-874c-ab5a5df18389",
   "metadata": {},
   "outputs": [
    {
     "data": {
      "text/plain": [
       "LinearRegression()"
      ]
     },
     "execution_count": 4,
     "metadata": {},
     "output_type": "execute_result"
    }
   ],
   "source": [
    "lsr = linear_model.LinearRegression()\n",
    "lsr.fit(company_features, company_values)"
   ]
  },
  {
   "cell_type": "code",
   "execution_count": 5,
   "id": "30ee9137-8092-4abc-a6ba-86cc877f357a",
   "metadata": {},
   "outputs": [
    {
     "data": {
      "text/plain": [
       "array([15.81819943, -3.75096695])"
      ]
     },
     "execution_count": 5,
     "metadata": {},
     "output_type": "execute_result"
    }
   ],
   "source": [
    "lsr.coef_"
   ]
  },
  {
   "cell_type": "code",
   "execution_count": 6,
   "id": "25559ade-1755-4b34-b7e7-100af6db4ded",
   "metadata": {},
   "outputs": [
    {
     "data": {
      "text/plain": [
       "array([101.41523199, 113.48246447, 117.23343142])"
      ]
     },
     "execution_count": 6,
     "metadata": {},
     "output_type": "execute_result"
    }
   ],
   "source": [
    "lsr.predict([(0,0),(1, 1),(1,0)])"
   ]
  },
  {
   "cell_type": "markdown",
   "id": "7cc6aabd-5360-4867-a18d-d9c5fdd76566",
   "metadata": {},
   "source": [
    "# Advanced Least Squares Regression\n",
    "Features:\n",
    "- Years of experience\n",
    "- Years at company\n",
    "- Location transposed indicator\n",
    "- Level transposed indicator\n",
    "- Gender transposed indicator"
   ]
  },
  {
   "cell_type": "code",
   "execution_count": 7,
   "id": "f27a2d7d-eacd-4397-bee8-95e32ca0e7b0",
   "metadata": {},
   "outputs": [
    {
     "data": {
      "text/html": [
       "<div>\n",
       "<style scoped>\n",
       "    .dataframe tbody tr th:only-of-type {\n",
       "        vertical-align: middle;\n",
       "    }\n",
       "\n",
       "    .dataframe tbody tr th {\n",
       "        vertical-align: top;\n",
       "    }\n",
       "\n",
       "    .dataframe thead th {\n",
       "        text-align: right;\n",
       "    }\n",
       "</style>\n",
       "<table border=\"1\" class=\"dataframe\">\n",
       "  <thead>\n",
       "    <tr style=\"text-align: right;\">\n",
       "      <th></th>\n",
       "      <th>gender_Other</th>\n",
       "      <th>gender_Female</th>\n",
       "      <th>gender_Male</th>\n",
       "      <th>gender_nan</th>\n",
       "      <th>level_G10</th>\n",
       "      <th>level_G4</th>\n",
       "      <th>level_006</th>\n",
       "      <th>level_L2</th>\n",
       "      <th>level_L10</th>\n",
       "      <th>level_New_Grad_</th>\n",
       "      <th>...</th>\n",
       "      <th>location_Raleigh_NC</th>\n",
       "      <th>location_Durham_NC</th>\n",
       "      <th>location_Dallas_TX</th>\n",
       "      <th>location_Boston_MA</th>\n",
       "      <th>location_Milpitas_CA</th>\n",
       "      <th>location_Seattle_WA</th>\n",
       "      <th>location_Vancouver_BC_Canada</th>\n",
       "      <th>location_San_Jose_CA</th>\n",
       "      <th>yearsofexperience</th>\n",
       "      <th>yearsatcompany</th>\n",
       "    </tr>\n",
       "  </thead>\n",
       "  <tbody>\n",
       "    <tr>\n",
       "      <th>56441</th>\n",
       "      <td>False</td>\n",
       "      <td>False</td>\n",
       "      <td>False</td>\n",
       "      <td>False</td>\n",
       "      <td>False</td>\n",
       "      <td>False</td>\n",
       "      <td>False</td>\n",
       "      <td>False</td>\n",
       "      <td>False</td>\n",
       "      <td>False</td>\n",
       "      <td>...</td>\n",
       "      <td>False</td>\n",
       "      <td>True</td>\n",
       "      <td>False</td>\n",
       "      <td>False</td>\n",
       "      <td>False</td>\n",
       "      <td>False</td>\n",
       "      <td>False</td>\n",
       "      <td>False</td>\n",
       "      <td>3.0</td>\n",
       "      <td>2.0</td>\n",
       "    </tr>\n",
       "    <tr>\n",
       "      <th>56597</th>\n",
       "      <td>False</td>\n",
       "      <td>False</td>\n",
       "      <td>False</td>\n",
       "      <td>False</td>\n",
       "      <td>False</td>\n",
       "      <td>False</td>\n",
       "      <td>False</td>\n",
       "      <td>False</td>\n",
       "      <td>False</td>\n",
       "      <td>False</td>\n",
       "      <td>...</td>\n",
       "      <td>False</td>\n",
       "      <td>False</td>\n",
       "      <td>False</td>\n",
       "      <td>False</td>\n",
       "      <td>False</td>\n",
       "      <td>True</td>\n",
       "      <td>False</td>\n",
       "      <td>False</td>\n",
       "      <td>0.0</td>\n",
       "      <td>0.0</td>\n",
       "    </tr>\n",
       "    <tr>\n",
       "      <th>57000</th>\n",
       "      <td>False</td>\n",
       "      <td>False</td>\n",
       "      <td>False</td>\n",
       "      <td>False</td>\n",
       "      <td>False</td>\n",
       "      <td>False</td>\n",
       "      <td>False</td>\n",
       "      <td>False</td>\n",
       "      <td>False</td>\n",
       "      <td>False</td>\n",
       "      <td>...</td>\n",
       "      <td>False</td>\n",
       "      <td>True</td>\n",
       "      <td>False</td>\n",
       "      <td>False</td>\n",
       "      <td>False</td>\n",
       "      <td>False</td>\n",
       "      <td>False</td>\n",
       "      <td>False</td>\n",
       "      <td>4.0</td>\n",
       "      <td>1.0</td>\n",
       "    </tr>\n",
       "    <tr>\n",
       "      <th>57281</th>\n",
       "      <td>False</td>\n",
       "      <td>True</td>\n",
       "      <td>False</td>\n",
       "      <td>False</td>\n",
       "      <td>False</td>\n",
       "      <td>False</td>\n",
       "      <td>False</td>\n",
       "      <td>False</td>\n",
       "      <td>False</td>\n",
       "      <td>False</td>\n",
       "      <td>...</td>\n",
       "      <td>False</td>\n",
       "      <td>False</td>\n",
       "      <td>False</td>\n",
       "      <td>False</td>\n",
       "      <td>False</td>\n",
       "      <td>False</td>\n",
       "      <td>False</td>\n",
       "      <td>False</td>\n",
       "      <td>5.0</td>\n",
       "      <td>4.0</td>\n",
       "    </tr>\n",
       "    <tr>\n",
       "      <th>57769</th>\n",
       "      <td>False</td>\n",
       "      <td>False</td>\n",
       "      <td>True</td>\n",
       "      <td>False</td>\n",
       "      <td>False</td>\n",
       "      <td>False</td>\n",
       "      <td>False</td>\n",
       "      <td>False</td>\n",
       "      <td>False</td>\n",
       "      <td>False</td>\n",
       "      <td>...</td>\n",
       "      <td>False</td>\n",
       "      <td>False</td>\n",
       "      <td>False</td>\n",
       "      <td>False</td>\n",
       "      <td>False</td>\n",
       "      <td>False</td>\n",
       "      <td>False</td>\n",
       "      <td>True</td>\n",
       "      <td>4.0</td>\n",
       "      <td>2.0</td>\n",
       "    </tr>\n",
       "  </tbody>\n",
       "</table>\n",
       "<p>5 rows × 62 columns</p>\n",
       "</div>"
      ],
      "text/plain": [
       "       gender_Other  gender_Female  gender_Male  gender_nan  level_G10  \\\n",
       "56441         False          False        False       False      False   \n",
       "56597         False          False        False       False      False   \n",
       "57000         False          False        False       False      False   \n",
       "57281         False           True        False       False      False   \n",
       "57769         False          False         True       False      False   \n",
       "\n",
       "       level_G4  level_006  level_L2  level_L10  level_New_Grad_  ...  \\\n",
       "56441     False      False     False      False            False  ...   \n",
       "56597     False      False     False      False            False  ...   \n",
       "57000     False      False     False      False            False  ...   \n",
       "57281     False      False     False      False            False  ...   \n",
       "57769     False      False     False      False            False  ...   \n",
       "\n",
       "       location_Raleigh_NC  location_Durham_NC  location_Dallas_TX  \\\n",
       "56441                False                True               False   \n",
       "56597                False               False               False   \n",
       "57000                False                True               False   \n",
       "57281                False               False               False   \n",
       "57769                False               False               False   \n",
       "\n",
       "       location_Boston_MA  location_Milpitas_CA  location_Seattle_WA  \\\n",
       "56441               False                 False                False   \n",
       "56597               False                 False                 True   \n",
       "57000               False                 False                False   \n",
       "57281               False                 False                False   \n",
       "57769               False                 False                False   \n",
       "\n",
       "       location_Vancouver_BC_Canada  location_San_Jose_CA  yearsofexperience  \\\n",
       "56441                         False                 False                3.0   \n",
       "56597                         False                 False                0.0   \n",
       "57000                         False                 False                4.0   \n",
       "57281                         False                 False                5.0   \n",
       "57769                         False                  True                4.0   \n",
       "\n",
       "       yearsatcompany  \n",
       "56441             2.0  \n",
       "56597             0.0  \n",
       "57000             1.0  \n",
       "57281             4.0  \n",
       "57769             2.0  \n",
       "\n",
       "[5 rows x 62 columns]"
      ]
     },
     "execution_count": 7,
     "metadata": {},
     "output_type": "execute_result"
    }
   ],
   "source": [
    "import re\n",
    "\n",
    "company_features = company_data[['yearsofexperience', 'yearsatcompany']]\n",
    "company_values = company_data['totalyearlycompensation']\n",
    "\n",
    "# transpose location\n",
    "locations = pd.unique(company_data.location)\n",
    "for loc in locations:\n",
    "    new_loc = 'location_' + re.sub('[ ]', '_', re.sub('[,]','', loc))\n",
    "    company_features.insert(0, new_loc, company_data.location == loc)\n",
    "\n",
    "# transpose level\n",
    "levels = pd.unique(company_data.level)\n",
    "for lev in levels:\n",
    "    new_level = 'level_' + re.sub('[ ]', '_', lev)\n",
    "    company_features.insert(0, new_level, company_data.level == lev)\n",
    "\n",
    "# transpose gender\n",
    "genders = pd.unique(company_data.gender)\n",
    "for gen in genders:\n",
    "    new_gender = 'gender_' + re.sub('[ ]', '_', str(gen))\n",
    "    company_features.insert(0, new_gender, company_data.gender == gen)\n",
    "    \n",
    "company_features.tail()"
   ]
  },
  {
   "cell_type": "code",
   "execution_count": 8,
   "id": "956c4f8b-2978-47e1-bb83-1f1ef724979d",
   "metadata": {},
   "outputs": [],
   "source": [
    "def transform_input(city, state, country, gender, yoe, yac, level):\n",
    "    location_val = f'location_{city}_{state}_{country}' if country else f'location_{city}_{state}'\n",
    "    gender_val = f'gender_{gender}'\n",
    "    level_val = f'level_{level}'\n",
    "    \n",
    "    base_row = company_features.iloc[0].copy(deep=True)\n",
    "    for col in base_row.index:\n",
    "        if re.match('gender_|location_|level_', col):\n",
    "            base_row[col] = False\n",
    "    base_row[location_val] = True\n",
    "    base_row[level_val] = True\n",
    "    base_row[gender_val] = True\n",
    "    \n",
    "    base_row['yearsofexperience'] = yoe\n",
    "    base_row['yearsatcompany'] = yac\n",
    "    \n",
    "    return base_row"
   ]
  },
  {
   "cell_type": "code",
   "execution_count": 9,
   "id": "243ffcd2-16cb-4484-8da5-279478da7ede",
   "metadata": {},
   "outputs": [
    {
     "data": {
      "text/plain": [
       "array([-1.78924168e+01, -8.82362045e+00,  4.83416640e-01, -1.63442245e+11,\n",
       "        1.93263689e+12,  1.93263689e+12,  1.93263689e+12,  1.93263689e+12,\n",
       "        1.93263689e+12,  1.93263689e+12,  1.93263689e+12,  1.93263689e+12,\n",
       "        1.93263689e+12,  1.93263689e+12,  1.93263689e+12,  1.93263689e+12,\n",
       "        1.02304289e+12,  1.93263689e+12,  1.93263689e+12,  1.93263689e+12,\n",
       "        1.93263689e+12,  1.93263689e+12,  1.93263689e+12,  1.93263689e+12,\n",
       "        1.93263689e+12,  1.93263689e+12,  1.93263689e+12,  1.93263689e+12,\n",
       "        1.93263689e+12,  1.93263689e+12,  1.93263689e+12,  1.93263689e+12,\n",
       "        1.93263689e+12, -8.96164441e+11, -8.96164441e+11, -8.96164441e+11,\n",
       "       -8.96164441e+11, -8.96164441e+11, -8.96164441e+11, -8.96164441e+11,\n",
       "        1.34295613e+10, -8.96164441e+11, -8.96164441e+11, -8.96164441e+11,\n",
       "       -8.96164441e+11, -8.96164441e+11, -8.96164441e+11, -8.96164441e+11,\n",
       "       -8.96164441e+11, -8.96164441e+11, -8.96164441e+11, -8.96164441e+11,\n",
       "       -8.96164441e+11, -8.96164441e+11, -8.96164441e+11, -8.96164441e+11,\n",
       "       -8.96164441e+11, -8.96164441e+11, -8.96164441e+11, -8.96164441e+11,\n",
       "        4.77612305e+00, -3.11621094e+00])"
      ]
     },
     "execution_count": 9,
     "metadata": {},
     "output_type": "execute_result"
    }
   ],
   "source": [
    "lsr = linear_model.LinearRegression()\n",
    "lsr.fit(company_features, company_values)\n",
    "lsr.coef_"
   ]
  },
  {
   "cell_type": "code",
   "execution_count": 10,
   "id": "7609b40c-2035-4a43-9770-5d3b76a814ed",
   "metadata": {},
   "outputs": [
    {
     "name": "stderr",
     "output_type": "stream",
     "text": [
      "/Users/reece/opt/miniconda3/envs/venv/lib/python3.9/site-packages/sklearn/utils/validation.py:63: FutureWarning: Arrays of bytes/strings is being converted to decimal numbers if dtype='numeric'. This behavior is deprecated in 0.24 and will be removed in 1.1 (renaming of 0.26). Please convert your data to numeric values explicitly instead.\n",
      "  return f(*args, **kwargs)\n"
     ]
    },
    {
     "data": {
      "text/plain": [
       "array([182.33532715, 128.93347168])"
      ]
     },
     "execution_count": 10,
     "metadata": {},
     "output_type": "execute_result"
    }
   ],
   "source": [
    "c1 = transform_input('San_Jose', 'CA', None, 'Male', 10, 10, 'L10')\n",
    "c2 = transform_input('San_Jose', 'CA', None, 'Male', 1, 1, 'L6')\n",
    "#c1.index\n",
    "lsr.predict([c1, c2])"
   ]
  },
  {
   "cell_type": "code",
   "execution_count": 11,
   "id": "edcc7b0c-ee33-465f-af12-6d61427187cc",
   "metadata": {},
   "outputs": [
    {
     "data": {
      "text/plain": [
       "Lasso(alpha=0.1)"
      ]
     },
     "execution_count": 11,
     "metadata": {},
     "output_type": "execute_result"
    }
   ],
   "source": [
    "lasso = linear_model.Lasso(alpha=0.1)\n",
    "lasso.fit(company_features, company_values)"
   ]
  },
  {
   "cell_type": "code",
   "execution_count": 12,
   "id": "669707cf-a89e-46a4-9ea4-a62915db3b93",
   "metadata": {},
   "outputs": [
    {
     "name": "stderr",
     "output_type": "stream",
     "text": [
      "/Users/reece/opt/miniconda3/envs/venv/lib/python3.9/site-packages/sklearn/utils/validation.py:63: FutureWarning: Arrays of bytes/strings is being converted to decimal numbers if dtype='numeric'. This behavior is deprecated in 0.24 and will be removed in 1.1 (renaming of 0.26). Please convert your data to numeric values explicitly instead.\n",
      "  return f(*args, **kwargs)\n"
     ]
    },
    {
     "data": {
      "text/plain": [
       "array([179.71124508, 137.65975897])"
      ]
     },
     "execution_count": 12,
     "metadata": {},
     "output_type": "execute_result"
    }
   ],
   "source": [
    "lasso.predict([c1,c2])"
   ]
  },
  {
   "cell_type": "code",
   "execution_count": 13,
   "id": "df9cac0b-ab74-4e6d-b634-5c9b6e20a0fd",
   "metadata": {},
   "outputs": [
    {
     "data": {
      "text/plain": [
       "BayesianRidge()"
      ]
     },
     "execution_count": 13,
     "metadata": {},
     "output_type": "execute_result"
    }
   ],
   "source": [
    "bayes = linear_model.BayesianRidge()\n",
    "bayes.fit(company_features, company_values)"
   ]
  },
  {
   "cell_type": "code",
   "execution_count": 14,
   "id": "6f349f40-3dbf-4c97-80f4-acdca51b18fd",
   "metadata": {},
   "outputs": [
    {
     "name": "stderr",
     "output_type": "stream",
     "text": [
      "/Users/reece/opt/miniconda3/envs/venv/lib/python3.9/site-packages/sklearn/utils/validation.py:63: FutureWarning: Arrays of bytes/strings is being converted to decimal numbers if dtype='numeric'. This behavior is deprecated in 0.24 and will be removed in 1.1 (renaming of 0.26). Please convert your data to numeric values explicitly instead.\n",
      "  return f(*args, **kwargs)\n"
     ]
    },
    {
     "data": {
      "text/plain": [
       "array([184.85947152, 131.75077806])"
      ]
     },
     "execution_count": 14,
     "metadata": {},
     "output_type": "execute_result"
    }
   ],
   "source": [
    "bayes.predict([c1,c2])"
   ]
  },
  {
   "cell_type": "code",
   "execution_count": null,
   "id": "4e6893d8-972c-41ff-8f50-326fb52803bf",
   "metadata": {},
   "outputs": [],
   "source": []
  }
 ],
 "metadata": {
  "kernelspec": {
   "display_name": "Python 3",
   "language": "python",
   "name": "python3"
  },
  "language_info": {
   "codemirror_mode": {
    "name": "ipython",
    "version": 3
   },
   "file_extension": ".py",
   "mimetype": "text/x-python",
   "name": "python",
   "nbconvert_exporter": "python",
   "pygments_lexer": "ipython3",
   "version": "3.9.4"
  }
 },
 "nbformat": 4,
 "nbformat_minor": 5
}
